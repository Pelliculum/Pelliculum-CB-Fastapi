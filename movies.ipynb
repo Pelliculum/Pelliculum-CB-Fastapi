{
 "cells": [
  {
   "cell_type": "code",
   "execution_count": 43,
   "id": "b4477a0d55d8390c",
   "metadata": {
    "execution": {
     "iopub.execute_input": "2025-02-11T10:36:36.371693Z",
     "iopub.status.busy": "2025-02-11T10:36:36.371479Z",
     "iopub.status.idle": "2025-02-11T10:37:05.675397Z",
     "shell.execute_reply": "2025-02-11T10:37:05.674577Z",
     "shell.execute_reply.started": "2025-02-11T10:36:36.371670Z"
    },
    "trusted": true
   },
   "outputs": [],
   "source": [
    "!pip install -q -U accelerate datasets peft transformers trl wandb bitsandbytes"
   ]
  },
  {
   "cell_type": "code",
   "execution_count": null,
   "id": "f92e7308-e50a-4295-aaf3-076dc944ee49",
   "metadata": {
    "execution": {
     "execution_failed": "2025-02-11T10:37:06.547Z"
    },
    "trusted": true
   },
   "outputs": [],
   "source": [
    "import os\n",
    "# Redémarre le carnet Jupyter immédiatement après l'intallation des deps, pour êtres à jours\n",
    "os._exit(0)"
   ]
  },
  {
   "cell_type": "code",
   "execution_count": 44,
   "id": "6ec4266ecdfecbc0",
   "metadata": {
    "execution": {
     "iopub.execute_input": "2025-02-11T10:37:10.134422Z",
     "iopub.status.busy": "2025-02-11T10:37:10.134139Z",
     "iopub.status.idle": "2025-02-11T10:37:42.599915Z",
     "shell.execute_reply": "2025-02-11T10:37:42.599110Z",
     "shell.execute_reply.started": "2025-02-11T10:37:10.134402Z"
    },
    "trusted": true
   },
   "outputs": [],
   "source": [
    "from transformers import AutoModelForCausalLM, AutoTokenizer\n",
    "from trl import SFTConfig, SFTTrainer, DataCollatorForCompletionOnlyLM\n",
    "\n",
    "# Specify the checkpoint for SmolLM2 and set the device.\n",
    "checkpoint = \"HuggingFaceTB/SmolLM2-135M-Instruct\"\n",
    "\n",
    "# Load the tokenizer and model.\n",
    "tokenizer = AutoTokenizer.from_pretrained(checkpoint)\n",
    "model = AutoModelForCausalLM.from_pretrained(\n",
    "        checkpoint,\n",
    "        device_map=\"auto\",\n",
    "        )"
   ]
  },
  {
   "cell_type": "code",
   "execution_count": 6,
   "id": "4cf9e398a3a33cc9",
   "metadata": {
    "execution": {
     "iopub.execute_input": "2025-02-10T16:06:16.224659Z",
     "iopub.status.busy": "2025-02-10T16:06:16.224303Z",
     "iopub.status.idle": "2025-02-10T16:06:16.230228Z",
     "shell.execute_reply": "2025-02-10T16:06:16.229212Z",
     "shell.execute_reply.started": "2025-02-10T16:06:16.224631Z"
    },
    "trusted": true
   },
   "outputs": [
    {
     "data": {
      "text/plain": [
       "(2, 2, '<|im_end|>', '<|im_end|>')"
      ]
     },
     "execution_count": 6,
     "metadata": {},
     "output_type": "execute_result"
    }
   ],
   "source": [
    "tokenizer.pad_token_id, tokenizer.eos_token_id, tokenizer.pad_token, tokenizer.eos_token"
   ]
  },
  {
   "cell_type": "code",
   "execution_count": 11,
   "id": "ff7fd8071c7f156c",
   "metadata": {
    "execution": {
     "iopub.execute_input": "2025-02-10T16:18:13.917529Z",
     "iopub.status.busy": "2025-02-10T16:18:13.917195Z",
     "iopub.status.idle": "2025-02-10T16:18:13.925162Z",
     "shell.execute_reply": "2025-02-10T16:18:13.924214Z",
     "shell.execute_reply.started": "2025-02-10T16:18:13.917504Z"
    },
    "trusted": true
   },
   "outputs": [
    {
     "data": {
      "text/plain": [
       "'19603-445954-697843-603692-781009-502356-747355-640146-569094-1070777-536437-121342-325358-667538-960033-496450-447365-1037644-298618-713704-1121116'"
      ]
     },
     "execution_count": 11,
     "metadata": {},
     "output_type": "execute_result"
    }
   ],
   "source": [
    "tokenizer.decode(tokenizer.encode(\"19603-445954-697843-603692-781009-502356-747355-640146-569094-1070777-536437-121342-325358-667538-960033-496450-447365-1037644-298618-713704-1121116\"))"
   ]
  },
  {
   "cell_type": "markdown",
   "id": "37633c01c195e6c9",
   "metadata": {},
   "source": [
    "# Dataset\n",
    "\n",
    "Json structure output: https://huggingface.co/datasets/ChristianAzinn/json-training"
   ]
  },
  {
   "cell_type": "code",
   "execution_count": 45,
   "id": "b7c5653b-60c4-48c1-96bc-d1bb76d6e49c",
   "metadata": {
    "execution": {
     "iopub.execute_input": "2025-02-11T10:57:59.000959Z",
     "iopub.status.busy": "2025-02-11T10:57:59.000555Z",
     "iopub.status.idle": "2025-02-11T10:58:00.246544Z",
     "shell.execute_reply": "2025-02-11T10:58:00.245621Z",
     "shell.execute_reply.started": "2025-02-11T10:57:59.000928Z"
    },
    "trusted": true
   },
   "outputs": [],
   "source": [
    "from datasets import load_dataset\n",
    "\n",
    "dataset_name = \"wykonos/movies\"\n",
    "ds = load_dataset(dataset_name)[\"train\"]"
   ]
  },
  {
   "cell_type": "code",
   "execution_count": 46,
   "id": "5f3428dc-d4d8-4326-89f8-8e62f34cb286",
   "metadata": {
    "trusted": true
   },
   "outputs": [],
   "source": [
    "# Créer un dictionnaire ID -> Titre\n",
    "id_to_title = {row[\"id\"]: row[\"title\"] for row in ds}"
   ]
  },
  {
   "cell_type": "code",
   "execution_count": 47,
   "id": "a0a58ad4-612f-49f5-b2e4-1af8f3f3b8e4",
   "metadata": {
    "execution": {
     "iopub.execute_input": "2025-02-11T11:06:47.853213Z",
     "iopub.status.busy": "2025-02-11T11:06:47.852820Z",
     "iopub.status.idle": "2025-02-11T11:08:38.012102Z",
     "shell.execute_reply": "2025-02-11T11:08:38.011169Z",
     "shell.execute_reply.started": "2025-02-11T11:06:47.853189Z"
    },
    "trusted": true
   },
   "outputs": [
    {
     "data": {
      "application/vnd.jupyter.widget-view+json": {
       "model_id": "ea12cbcc41534ffc8b81bde9a256aa49",
       "version_major": 2,
       "version_minor": 0
      },
      "text/plain": [
       "Map:   0%|          | 0/34720 [00:00<?, ? examples/s]"
      ]
     },
     "metadata": {},
     "output_type": "display_data"
    },
    {
     "data": {
      "application/vnd.jupyter.widget-view+json": {
       "model_id": "058196d7473a43f3821f23634f03d462",
       "version_major": 2,
       "version_minor": 0
      },
      "text/plain": [
       "Filter:   0%|          | 0/34720 [00:00<?, ? examples/s]"
      ]
     },
     "metadata": {},
     "output_type": "display_data"
    }
   ],
   "source": [
    "# Filtrer les exemples qui ont une recommandation\n",
    "ds_filtre = ds.filter(lambda example: bool(example[\"recommendations\"]))\n",
    "\n",
    "# Fonction pour remplacer les IDs par les titres\n",
    "def replace_ids_with_titles(example):\n",
    "    titles = []\n",
    "    for movie_id in example[\"recommendations\"].split('-'):\n",
    "        if id_to_title.get(int(movie_id)):\n",
    "            titles.append(id_to_title.get(int(movie_id)))\n",
    "\n",
    "        if len(titles) == 4:\n",
    "            break\n",
    "\n",
    "    example[\"recommendations\"] = None if len(titles) == 0 else  \", \".join(titles)\n",
    "    return example\n",
    "\n",
    "# Appliquer la transformation sur le dataset filtré\n",
    "ds_filtre = ds_filtre.map(replace_ids_with_titles).filter(lambda example: bool(example[\"recommendations\"]))"
   ]
  },
  {
   "cell_type": "code",
   "execution_count": 48,
   "id": "0d576a9e-0223-4935-9e9b-1087b2d4470f",
   "metadata": {
    "execution": {
     "iopub.execute_input": "2025-02-11T11:09:34.237139Z",
     "iopub.status.busy": "2025-02-11T11:09:34.236773Z",
     "iopub.status.idle": "2025-02-11T11:09:34.245600Z",
     "shell.execute_reply": "2025-02-11T11:09:34.244705Z",
     "shell.execute_reply.started": "2025-02-11T11:09:34.237109Z"
    },
    "trusted": true
   },
   "outputs": [],
   "source": [
    "\n",
    "# Perform Train-Test Split\n",
    "#split_ds = ds[\"train\"].train_test_split(test_size=0.2, seed=42)\n",
    "\n",
    "# Access train and test splits\n",
    "train_dataset = ds_filtre.select(range(50))\n",
    "test_dataset = train_dataset"
   ]
  },
  {
   "cell_type": "code",
   "execution_count": 49,
   "id": "8ceed737fd63f0f4",
   "metadata": {
    "execution": {
     "iopub.execute_input": "2025-02-11T11:09:35.682593Z",
     "iopub.status.busy": "2025-02-11T11:09:35.682251Z",
     "iopub.status.idle": "2025-02-11T11:09:35.733788Z",
     "shell.execute_reply": "2025-02-11T11:09:35.733099Z",
     "shell.execute_reply.started": "2025-02-11T11:09:35.682565Z"
    },
    "trusted": true
   },
   "outputs": [
    {
     "name": "stdout",
     "output_type": "stream",
     "text": [
      "Fast X :: Ciao, Acts of Vengeance, Extraction 2, John Wick: Chapter 4\n",
      "The Pope's Exorcist :: Evil Dead Rise, The Devil Conspiracy, The Super Mario Bros. Movie, Suzume\n",
      "Ant-Man and the Wasp: Quantumania :: Diabolik - Ginko all'attacco!, Infelices para Siempre, Ghosted, Miracle in Kasama\n",
      "Creed III :: Lord of the Streets, There Are No Saints, Prizefighter: The Life of Jem Belcher, Bandit\n",
      "The Super Mario Bros. Movie :: Evil Dead Rise, Fast X, Ant-Man and the Wasp: Quantumania, Erotic Ghost Story\n",
      "Knock at the Cabin :: Plane, Huesera: The Bone Woman, Black Panther: Wakanda Forever, Private Peaceful\n",
      "John Wick: Chapter 4 :: Demon Slayer: Kimetsu no Yaiba Mt. Natagumo Arc, The Super Mario Bros. Movie, Fast X, B.O.O.O.M.\n",
      "Sisu :: The Mother, Evil Dead Rise, Guy Ritchie's The Covenant, The Devil Conspiracy\n",
      "Plane :: Black Panther: Wakanda Forever, Unwelcome, Pathaan, Knock at the Cabin\n",
      "Spider-Man: Across the Spider-Verse :: Miraculous: Ladybug & Cat Noir, The Movie, Transformers: Rise of the Beasts, Fast X, John Wick: Chapter 4\n",
      "Black Panther: Wakanda Forever :: Black Adam, Enola Holmes 2, Avatar: The Way of Water, Tere Naam\n",
      "Scream VI :: Scream, Cocaine Bear, Creed III, Knock at the Cabin\n",
      "The Little Mermaid :: Peter Pan & Wendy, Beau Is Afraid, Guardians of the Galaxy Vol. 3, Dungeons & Dragons: Honor Among Thieves\n",
      "Shazam! Fury of the Gods :: Ghosted, 65, The Last Kingdom: Seven Kings Must Die, The Super Mario Bros. Movie\n",
      "Huesera: The Bone Woman :: WWE WrestleMania 31, Knock at the Cabin, Mobile Suit SD Gundam, Blood\n",
      "Narvik :: First Reformed, The Pale Blue Eye, Framing Mom, JUNG_E\n",
      "Ghosted :: Ant-Man and the Wasp: Quantumania, Tetris\n",
      "Diabolik - Ginko all'attacco! :: Moschettieri del Re - La penultima missione, A Boy Called Christmas, The Guardians of the Galaxy Holiday Special, Black Panther: Wakanda Forever\n",
      "Avatar: The Way of Water :: Diabolik - Ginko all'attacco!, Capturing Avatar, Avatar: Creating the World of Pandora, Infelices para Siempre\n",
      "Shotgun Wedding :: E29 IRON MAN, We, We, We\n",
      "Cocaine Bear :: Creed III, Ant-Man and the Wasp: Quantumania, Unicorn Wars, The Colditz Story\n",
      "The Forbidden Legend: Sex & Chopsticks 2 :: Savage Salvation, Big Trip 2: Special Delivery, Prizefighter: The Life of Jem Belcher, There Are No Saints\n",
      "Guardians of the Galaxy Vol. 3 :: Dungeons & Dragons: Honor Among Thieves, Ant-Man and the Wasp: Quantumania, The Super Mario Bros. Movie, Fast X\n",
      "Transfusion :: The Old Way, Chris Ramsey Live: All Growed Up, JUNG_E, Märzengrund\n",
      "Peter Pan & Wendy :: Guardians of the Galaxy Vol. 3, Dungeons & Dragons: Honor Among Thieves, John Wick: Chapter 4, Ant-Man and the Wasp: Quantumania\n",
      "Puss in Boots: The Last Wish :: Prizefighter: The Life of Jem Belcher, Black Panther: Wakanda Forever, Black Gunn, P\n",
      "There Are No Saints :: Y Tu Mamá También, Last Seen Alive, Under Wraps, Press Play\n",
      "Two Witches :: HADES, TLMEA, Watcher, Possessor Uncut\n",
      "Guy Ritchie's The Covenant :: Sisu, Evil Dead Rise, Fast X, Giovannona Long-Thigh\n",
      "Evil Dead Rise :: The Pope's Exorcist, Dead, The Super Mario Bros. Movie, The Mother\n",
      "Black Adam :: Nice Sister-In-Law 2, Black Panther: Wakanda Forever, Terrifier 2, Awdat Al-Rouh\n",
      "JUNG_E :: Wolf Hound, Transfusion, M3GAN, Devotion\n",
      "Black Clover: Sword of the Wizard King :: Lewis Hamilton - Le virtuose, Killers of the Flower Moon, J. Lo: Let's Get Real, Made in Italy\n",
      "The Trip 6 :: Palm Springs, The Sound and the Fury, Tales from the Hood 2\n",
      "Renfield :: Blow Up My Town, Victim(s), Rain in the Sunshine, Young Blood\n",
      "We Have a Ghost :: A Man Called Otto, Black Gunn, BDE, Knock at the Cabin\n",
      "Roald Dahl's Matilda the Musical :: 5-25-77, Glass Onion: A Knives Out Mystery, Strange World, White Noise\n",
      "Unicorn Wars :: Athena, Alienoid\n",
      "Troll :: Black Adam, Avatar: The Way of Water, Guillermo del Toro's Pinocchio, My Name Is Vendetta\n",
      "Prey for the Devil :: Violent Night, The Menu, The Pale Blue Eye, Beauty Salon: Special Services 4\n",
      "Choose or Die :: Submission, Pearl, #FollowFriday, There's Someone Inside Your House\n",
      "Blood :: A Matter Of Trust, The Phoenix, Segantini - Ritorno alla Natura, Transition and Happiness\n",
      "Candy Land :: There's Something Wrong with the Children, The Offering, Wolf Hound, Transfusion\n",
      "The Enforcer :: Whitney Houston: I Wanna Dance with Somebody, A Man Called Otto, Empire of Light, Till\n",
      "Avatar: Scene Deconstruction :: Countdown to Death: Pablo Escobar, Avatar: Creating the World of Pandora, Avatar Spirits, Capturing Avatar\n",
      "Guardians of the Galaxy Vol. 2 :: Guardians of the Galaxy, Spider-Man: Homecoming, Captain America: Civil War, Thor: Ragnarok\n",
      "The Pale Blue Eye :: The Menu, White Noise, Glass Onion: A Knives Out Mystery, Amsterdam\n",
      "Demon Slayer -Kimetsu no Yaiba- The Movie: Mugen Train :: Demon Slayer: Kimetsu no Yaiba the Hashira Meeting Arc, Demon Slayer: Kimetsu no Yaiba Mt. Natagumo Arc, Demon Slayer: Kimetsu no Yaiba Sibling's Bond, Demon Slayer: Kimetsu no Yaiba - Asakusa Arc\n",
      "Evil Eye :: Savage Salvation, The Realm, Puss in Boots: The Last Wish, The Feast\n",
      "65 :: Shazam! Fury of the Gods, The Mother, Ant-Man and the Wasp: Quantumania, The Super Mario Bros. Movie\n"
     ]
    }
   ],
   "source": [
    "for row in train_dataset:\n",
    "    print(row[\"title\"], \"::\",row[\"recommendations\"])"
   ]
  },
  {
   "cell_type": "code",
   "execution_count": 51,
   "id": "ddf37774132f48c2",
   "metadata": {
    "execution": {
     "iopub.execute_input": "2025-02-11T11:13:07.105487Z",
     "iopub.status.busy": "2025-02-11T11:13:07.105174Z",
     "iopub.status.idle": "2025-02-11T11:13:07.119501Z",
     "shell.execute_reply": "2025-02-11T11:13:07.118644Z",
     "shell.execute_reply.started": "2025-02-11T11:13:07.105466Z"
    },
    "trusted": true
   },
   "outputs": [],
   "source": [
    "# Set the response template to match the chat format.\n",
    "# (Ensure this string exactly matches the beginning of the assistant's response as output by apply_chat_template.)\n",
    "response_template = \"<|im_start|>assistant\\n\"\n",
    "instruction_template = \"<|im_start|>user\\n\"\n",
    "PROMPT_TEMPLATE = \"\"\"Suggest movies similar to {title}\n",
    "movie recommendations:\"\"\"\n",
    "\n",
    "\n",
    "def formatting_prompts_func(example):\n",
    "    \"\"\"\n",
    "    Converts each example into a conversation string using the tokenizer's chat template.\n",
    "    Assumes each example contains lists under \"instruction\" and \"output\".\n",
    "    \"\"\"\n",
    "    output_texts = []\n",
    "    for i in range(len(example[\"title\"])):\n",
    "        if example[\"recommendations\"][i] is None:\n",
    "            continue\n",
    "        # Build a conversation with a user message and an assistant reply.\n",
    "        messages = [\n",
    "            {\n",
    "                \"role\":    \"system\",\n",
    "                \"content\": \"You are are an expert in movie recommendation\"\n",
    "                },\n",
    "            {\"role\": \"user\", \"content\": PROMPT_TEMPLATE.format(title=example[\"title\"][i])},\n",
    "            # Note: It is important that the assistant message content here does not\n",
    "            # include the assistant marker, because the chat template will insert it.\n",
    "            # + \"<|im_end|>\"\n",
    "            {\"role\": \"assistant\", \"content\": example[\"recommendations\"][i]}\n",
    "            ]\n",
    "        # Use the chat template to generate the formatted text.\n",
    "        text = tokenizer.apply_chat_template(messages, tokenize=False)\n",
    "        output_texts.append(text)\n",
    "    print(output_texts)\n",
    "    return output_texts\n",
    "\n",
    "\n",
    "# Create the data collator.\n",
    "# It will search for the response_template (here \"Assistant:\") in the formatted text\n",
    "# and ensure that only tokens after that marker contribute to the loss.\n",
    "collator = DataCollatorForCompletionOnlyLM(response_template=response_template,\n",
    "                                           instruction_template=instruction_template,\n",
    "                                           tokenizer=tokenizer,\n",
    "                                           mlm=False)"
   ]
  },
  {
   "cell_type": "code",
   "execution_count": 52,
   "id": "793ac796b6f1284c",
   "metadata": {},
   "outputs": [
    {
     "data": {
      "text/plain": [
       "'<|im_start|>system\\nYou are a helpful assistant.<|im_end|>\\n<|im_start|>user\\nHello, how are you?<|im_end|>\\n<|im_start|>assistant\\nI am good, thank you.<|im_end|>\\n'"
      ]
     },
     "execution_count": 52,
     "metadata": {},
     "output_type": "execute_result"
    }
   ],
   "source": [
    "tokenizer.apply_chat_template([\n",
    "    {\"role\": \"system\", \"content\": \"You are a helpful assistant.\"},\n",
    "    {\"role\": \"user\", \"content\": \"Hello, how are you?\"},\n",
    "    {\"role\": \"assistant\", \"content\": \"I am good, thank you.\"}\n",
    "    ], tokenize=False)"
   ]
  },
  {
   "cell_type": "markdown",
   "id": "a96feb2a6e00d710",
   "metadata": {},
   "source": [
    "# Lora Config"
   ]
  },
  {
   "cell_type": "code",
   "execution_count": 53,
   "id": "da1f50aa45ee897a",
   "metadata": {
    "execution": {
     "iopub.execute_input": "2025-02-11T11:13:44.753601Z",
     "iopub.status.busy": "2025-02-11T11:13:44.753299Z",
     "iopub.status.idle": "2025-02-11T11:13:44.758019Z",
     "shell.execute_reply": "2025-02-11T11:13:44.757063Z",
     "shell.execute_reply.started": "2025-02-11T11:13:44.753581Z"
    },
    "trusted": true
   },
   "outputs": [],
   "source": [
    "from peft import LoraConfig\n",
    "\n",
    "# Note that r, in the figure above, is a hyperparameter here that we can use to specify the rank of the low-rank matrices used for adaptation.\n",
    "# A smaller r leads to a simpler low-rank matrix, which results in fewer parameters to learn during adaptation.\n",
    "# This can lead to faster training and potentially reduced computational requirements.\n",
    "# However, with a smaller r, the capacity of the low-rank matrix to capture task-specific information decreases.\n",
    "# This may result in lower adaptation quality, and the model might not perform as well on the new task compared to a higher r.\n",
    "lora_config = LoraConfig(\n",
    "        r=64,\n",
    "        lora_alpha=128,\n",
    "        lora_dropout=0.05,\n",
    "        target_modules=[\"q_proj\", \"k_proj\", \"v_proj\", \"o_proj\",],\n",
    "        bias=\"none\",\n",
    "        task_type=\"CAUSAL_LM\",\n",
    "        )"
   ]
  },
  {
   "cell_type": "markdown",
   "id": "7c2d2ea451fe4ba0",
   "metadata": {},
   "source": [
    "# Wandb\n",
    "\n",
    "Creat token and account: https://wandb.ai/home"
   ]
  },
  {
   "cell_type": "code",
   "execution_count": 54,
   "id": "7c2ddcdf716fe186",
   "metadata": {
    "execution": {
     "iopub.execute_input": "2025-02-11T11:13:49.079381Z",
     "iopub.status.busy": "2025-02-11T11:13:49.079069Z",
     "iopub.status.idle": "2025-02-11T11:14:22.847732Z",
     "shell.execute_reply": "2025-02-11T11:14:22.846961Z",
     "shell.execute_reply.started": "2025-02-11T11:13:49.079355Z"
    },
    "trusted": true
   },
   "outputs": [
    {
     "name": "stderr",
     "output_type": "stream",
     "text": [
      "\u001b[34m\u001b[1mwandb\u001b[0m: \u001b[33mWARNING\u001b[0m Calling wandb.login() after wandb.init() has no effect.\n"
     ]
    },
    {
     "data": {
      "text/plain": [
       "True"
      ]
     },
     "execution_count": 54,
     "metadata": {},
     "output_type": "execute_result"
    }
   ],
   "source": [
    "import wandb\n",
    "import getpass\n",
    "\n",
    "token = getpass.getpass()\n",
    "wandb.login(key=token)"
   ]
  },
  {
   "cell_type": "markdown",
   "id": "a593a3dd1fa4d45d",
   "metadata": {},
   "source": [
    "# Hub login\n",
    "\n",
    "Obtenir votre token API en Write: https://huggingface.co/settings/tokens"
   ]
  },
  {
   "cell_type": "code",
   "execution_count": 55,
   "id": "a4773613954055c4",
   "metadata": {
    "execution": {
     "iopub.execute_input": "2025-02-11T11:14:26.941571Z",
     "iopub.status.busy": "2025-02-11T11:14:26.940871Z",
     "iopub.status.idle": "2025-02-11T11:14:26.965055Z",
     "shell.execute_reply": "2025-02-11T11:14:26.964035Z",
     "shell.execute_reply.started": "2025-02-11T11:14:26.941535Z"
    },
    "trusted": true
   },
   "outputs": [
    {
     "data": {
      "application/vnd.jupyter.widget-view+json": {
       "model_id": "5c01e042679f40cca6cd4640fe811893",
       "version_major": 2,
       "version_minor": 0
      },
      "text/plain": [
       "VBox(children=(HTML(value='<center> <img\\nsrc=https://huggingface.co/front/assets/huggingface_logo-noborder.sv…"
      ]
     },
     "metadata": {},
     "output_type": "display_data"
    }
   ],
   "source": [
    "from huggingface_hub import notebook_login\n",
    "\n",
    "notebook_login()"
   ]
  },
  {
   "cell_type": "markdown",
   "id": "75bb475c7019978a",
   "metadata": {},
   "source": [
    "Crée un model dans votre organisation puis modifier la var suivent: https://huggingface.co/new"
   ]
  },
  {
   "cell_type": "code",
   "execution_count": 56,
   "id": "b23732532a2dcef1",
   "metadata": {
    "execution": {
     "iopub.execute_input": "2025-02-11T11:14:34.390515Z",
     "iopub.status.busy": "2025-02-11T11:14:34.390202Z",
     "iopub.status.idle": "2025-02-11T11:14:34.394176Z",
     "shell.execute_reply": "2025-02-11T11:14:34.393259Z",
     "shell.execute_reply.started": "2025-02-11T11:14:34.390487Z"
    },
    "trusted": true
   },
   "outputs": [],
   "source": [
    "hub_model_id = \"RealDragonMA/Pelliculum-Chatbot\""
   ]
  },
  {
   "cell_type": "markdown",
   "id": "cdc523383c666853",
   "metadata": {},
   "source": [
    "# SFT Trainer config"
   ]
  },
  {
   "cell_type": "code",
   "execution_count": 57,
   "id": "be4a6a400207624e",
   "metadata": {
    "trusted": true
   },
   "outputs": [
    {
     "name": "stdout",
     "output_type": "stream",
     "text": [
      "['<|im_start|>system\\nYou are are an expert in movie recommendation<|im_end|>\\n<|im_start|>user\\nSuggest movies similar to F\\nmovie recommendations:<|im_end|>\\n<|im_start|>assistant\\nC<|im_end|>\\n', '<|im_start|>system\\nYou are are an expert in movie recommendation<|im_end|>\\n<|im_start|>user\\nSuggest movies similar to a\\nmovie recommendations:<|im_end|>\\n<|im_start|>assistant\\ni<|im_end|>\\n', '<|im_start|>system\\nYou are are an expert in movie recommendation<|im_end|>\\n<|im_start|>user\\nSuggest movies similar to s\\nmovie recommendations:<|im_end|>\\n<|im_start|>assistant\\na<|im_end|>\\n', '<|im_start|>system\\nYou are are an expert in movie recommendation<|im_end|>\\n<|im_start|>user\\nSuggest movies similar to t\\nmovie recommendations:<|im_end|>\\n<|im_start|>assistant\\no<|im_end|>\\n', '<|im_start|>system\\nYou are are an expert in movie recommendation<|im_end|>\\n<|im_start|>user\\nSuggest movies similar to  \\nmovie recommendations:<|im_end|>\\n<|im_start|>assistant\\n,<|im_end|>\\n', '<|im_start|>system\\nYou are are an expert in movie recommendation<|im_end|>\\n<|im_start|>user\\nSuggest movies similar to X\\nmovie recommendations:<|im_end|>\\n<|im_start|>assistant\\n <|im_end|>\\n']\n"
     ]
    },
    {
     "data": {
      "application/vnd.jupyter.widget-view+json": {
       "model_id": "74b39814623c4f9eb4235dfb6253cab5",
       "version_major": 2,
       "version_minor": 0
      },
      "text/plain": [
       "Applying formatting function to train dataset:   0%|          | 0/50 [00:00<?, ? examples/s]"
      ]
     },
     "metadata": {},
     "output_type": "display_data"
    },
    {
     "name": "stdout",
     "output_type": "stream",
     "text": [
      "['<|im_start|>system\\nYou are are an expert in movie recommendation<|im_end|>\\n<|im_start|>user\\nSuggest movies similar to Fast X\\nmovie recommendations:<|im_end|>\\n<|im_start|>assistant\\nCiao, Acts of Vengeance, Extraction 2, John Wick: Chapter 4<|im_end|>\\n', \"<|im_start|>system\\nYou are are an expert in movie recommendation<|im_end|>\\n<|im_start|>user\\nSuggest movies similar to The Pope's Exorcist\\nmovie recommendations:<|im_end|>\\n<|im_start|>assistant\\nEvil Dead Rise, The Devil Conspiracy, The Super Mario Bros. Movie, Suzume<|im_end|>\\n\", \"<|im_start|>system\\nYou are are an expert in movie recommendation<|im_end|>\\n<|im_start|>user\\nSuggest movies similar to Ant-Man and the Wasp: Quantumania\\nmovie recommendations:<|im_end|>\\n<|im_start|>assistant\\nDiabolik - Ginko all'attacco!, Infelices para Siempre, Ghosted, Miracle in Kasama<|im_end|>\\n\", '<|im_start|>system\\nYou are are an expert in movie recommendation<|im_end|>\\n<|im_start|>user\\nSuggest movies similar to Creed III\\nmovie recommendations:<|im_end|>\\n<|im_start|>assistant\\nLord of the Streets, There Are No Saints, Prizefighter: The Life of Jem Belcher, Bandit<|im_end|>\\n', '<|im_start|>system\\nYou are are an expert in movie recommendation<|im_end|>\\n<|im_start|>user\\nSuggest movies similar to The Super Mario Bros. Movie\\nmovie recommendations:<|im_end|>\\n<|im_start|>assistant\\nEvil Dead Rise, Fast X, Ant-Man and the Wasp: Quantumania, Erotic Ghost Story<|im_end|>\\n', '<|im_start|>system\\nYou are are an expert in movie recommendation<|im_end|>\\n<|im_start|>user\\nSuggest movies similar to Knock at the Cabin\\nmovie recommendations:<|im_end|>\\n<|im_start|>assistant\\nPlane, Huesera: The Bone Woman, Black Panther: Wakanda Forever, Private Peaceful<|im_end|>\\n', '<|im_start|>system\\nYou are are an expert in movie recommendation<|im_end|>\\n<|im_start|>user\\nSuggest movies similar to John Wick: Chapter 4\\nmovie recommendations:<|im_end|>\\n<|im_start|>assistant\\nDemon Slayer: Kimetsu no Yaiba Mt. Natagumo Arc, The Super Mario Bros. Movie, Fast X, B.O.O.O.M.<|im_end|>\\n', \"<|im_start|>system\\nYou are are an expert in movie recommendation<|im_end|>\\n<|im_start|>user\\nSuggest movies similar to Sisu\\nmovie recommendations:<|im_end|>\\n<|im_start|>assistant\\nThe Mother, Evil Dead Rise, Guy Ritchie's The Covenant, The Devil Conspiracy<|im_end|>\\n\", '<|im_start|>system\\nYou are are an expert in movie recommendation<|im_end|>\\n<|im_start|>user\\nSuggest movies similar to Plane\\nmovie recommendations:<|im_end|>\\n<|im_start|>assistant\\nBlack Panther: Wakanda Forever, Unwelcome, Pathaan, Knock at the Cabin<|im_end|>\\n', '<|im_start|>system\\nYou are are an expert in movie recommendation<|im_end|>\\n<|im_start|>user\\nSuggest movies similar to Spider-Man: Across the Spider-Verse\\nmovie recommendations:<|im_end|>\\n<|im_start|>assistant\\nMiraculous: Ladybug & Cat Noir, The Movie, Transformers: Rise of the Beasts, Fast X, John Wick: Chapter 4<|im_end|>\\n', '<|im_start|>system\\nYou are are an expert in movie recommendation<|im_end|>\\n<|im_start|>user\\nSuggest movies similar to Black Panther: Wakanda Forever\\nmovie recommendations:<|im_end|>\\n<|im_start|>assistant\\nBlack Adam, Enola Holmes 2, Avatar: The Way of Water, Tere Naam<|im_end|>\\n', '<|im_start|>system\\nYou are are an expert in movie recommendation<|im_end|>\\n<|im_start|>user\\nSuggest movies similar to Scream VI\\nmovie recommendations:<|im_end|>\\n<|im_start|>assistant\\nScream, Cocaine Bear, Creed III, Knock at the Cabin<|im_end|>\\n', '<|im_start|>system\\nYou are are an expert in movie recommendation<|im_end|>\\n<|im_start|>user\\nSuggest movies similar to The Little Mermaid\\nmovie recommendations:<|im_end|>\\n<|im_start|>assistant\\nPeter Pan & Wendy, Beau Is Afraid, Guardians of the Galaxy Vol. 3, Dungeons & Dragons: Honor Among Thieves<|im_end|>\\n', '<|im_start|>system\\nYou are are an expert in movie recommendation<|im_end|>\\n<|im_start|>user\\nSuggest movies similar to Shazam! Fury of the Gods\\nmovie recommendations:<|im_end|>\\n<|im_start|>assistant\\nGhosted, 65, The Last Kingdom: Seven Kings Must Die, The Super Mario Bros. Movie<|im_end|>\\n', '<|im_start|>system\\nYou are are an expert in movie recommendation<|im_end|>\\n<|im_start|>user\\nSuggest movies similar to Huesera: The Bone Woman\\nmovie recommendations:<|im_end|>\\n<|im_start|>assistant\\nWWE WrestleMania 31, Knock at the Cabin, Mobile Suit SD Gundam, Blood<|im_end|>\\n', '<|im_start|>system\\nYou are are an expert in movie recommendation<|im_end|>\\n<|im_start|>user\\nSuggest movies similar to Narvik\\nmovie recommendations:<|im_end|>\\n<|im_start|>assistant\\nFirst Reformed, The Pale Blue Eye, Framing Mom, JUNG_E<|im_end|>\\n', '<|im_start|>system\\nYou are are an expert in movie recommendation<|im_end|>\\n<|im_start|>user\\nSuggest movies similar to Ghosted\\nmovie recommendations:<|im_end|>\\n<|im_start|>assistant\\nAnt-Man and the Wasp: Quantumania, Tetris<|im_end|>\\n', \"<|im_start|>system\\nYou are are an expert in movie recommendation<|im_end|>\\n<|im_start|>user\\nSuggest movies similar to Diabolik - Ginko all'attacco!\\nmovie recommendations:<|im_end|>\\n<|im_start|>assistant\\nMoschettieri del Re - La penultima missione, A Boy Called Christmas, The Guardians of the Galaxy Holiday Special, Black Panther: Wakanda Forever<|im_end|>\\n\", \"<|im_start|>system\\nYou are are an expert in movie recommendation<|im_end|>\\n<|im_start|>user\\nSuggest movies similar to Avatar: The Way of Water\\nmovie recommendations:<|im_end|>\\n<|im_start|>assistant\\nDiabolik - Ginko all'attacco!, Capturing Avatar, Avatar: Creating the World of Pandora, Infelices para Siempre<|im_end|>\\n\", '<|im_start|>system\\nYou are are an expert in movie recommendation<|im_end|>\\n<|im_start|>user\\nSuggest movies similar to Shotgun Wedding\\nmovie recommendations:<|im_end|>\\n<|im_start|>assistant\\nE29 IRON MAN, We, We, We<|im_end|>\\n', '<|im_start|>system\\nYou are are an expert in movie recommendation<|im_end|>\\n<|im_start|>user\\nSuggest movies similar to Cocaine Bear\\nmovie recommendations:<|im_end|>\\n<|im_start|>assistant\\nCreed III, Ant-Man and the Wasp: Quantumania, Unicorn Wars, The Colditz Story<|im_end|>\\n', '<|im_start|>system\\nYou are are an expert in movie recommendation<|im_end|>\\n<|im_start|>user\\nSuggest movies similar to The Forbidden Legend: Sex & Chopsticks 2\\nmovie recommendations:<|im_end|>\\n<|im_start|>assistant\\nSavage Salvation, Big Trip 2: Special Delivery, Prizefighter: The Life of Jem Belcher, There Are No Saints<|im_end|>\\n', '<|im_start|>system\\nYou are are an expert in movie recommendation<|im_end|>\\n<|im_start|>user\\nSuggest movies similar to Guardians of the Galaxy Vol. 3\\nmovie recommendations:<|im_end|>\\n<|im_start|>assistant\\nDungeons & Dragons: Honor Among Thieves, Ant-Man and the Wasp: Quantumania, The Super Mario Bros. Movie, Fast X<|im_end|>\\n', '<|im_start|>system\\nYou are are an expert in movie recommendation<|im_end|>\\n<|im_start|>user\\nSuggest movies similar to Transfusion\\nmovie recommendations:<|im_end|>\\n<|im_start|>assistant\\nThe Old Way, Chris Ramsey Live: All Growed Up, JUNG_E, Märzengrund<|im_end|>\\n', '<|im_start|>system\\nYou are are an expert in movie recommendation<|im_end|>\\n<|im_start|>user\\nSuggest movies similar to Peter Pan & Wendy\\nmovie recommendations:<|im_end|>\\n<|im_start|>assistant\\nGuardians of the Galaxy Vol. 3, Dungeons & Dragons: Honor Among Thieves, John Wick: Chapter 4, Ant-Man and the Wasp: Quantumania<|im_end|>\\n', '<|im_start|>system\\nYou are are an expert in movie recommendation<|im_end|>\\n<|im_start|>user\\nSuggest movies similar to Puss in Boots: The Last Wish\\nmovie recommendations:<|im_end|>\\n<|im_start|>assistant\\nPrizefighter: The Life of Jem Belcher, Black Panther: Wakanda Forever, Black Gunn, P<|im_end|>\\n', '<|im_start|>system\\nYou are are an expert in movie recommendation<|im_end|>\\n<|im_start|>user\\nSuggest movies similar to There Are No Saints\\nmovie recommendations:<|im_end|>\\n<|im_start|>assistant\\nY Tu Mamá También, Last Seen Alive, Under Wraps, Press Play<|im_end|>\\n', '<|im_start|>system\\nYou are are an expert in movie recommendation<|im_end|>\\n<|im_start|>user\\nSuggest movies similar to Two Witches\\nmovie recommendations:<|im_end|>\\n<|im_start|>assistant\\nHADES, TLMEA, Watcher, Possessor Uncut<|im_end|>\\n', \"<|im_start|>system\\nYou are are an expert in movie recommendation<|im_end|>\\n<|im_start|>user\\nSuggest movies similar to Guy Ritchie's The Covenant\\nmovie recommendations:<|im_end|>\\n<|im_start|>assistant\\nSisu, Evil Dead Rise, Fast X, Giovannona Long-Thigh<|im_end|>\\n\", \"<|im_start|>system\\nYou are are an expert in movie recommendation<|im_end|>\\n<|im_start|>user\\nSuggest movies similar to Evil Dead Rise\\nmovie recommendations:<|im_end|>\\n<|im_start|>assistant\\nThe Pope's Exorcist, Dead, The Super Mario Bros. Movie, The Mother<|im_end|>\\n\", '<|im_start|>system\\nYou are are an expert in movie recommendation<|im_end|>\\n<|im_start|>user\\nSuggest movies similar to Black Adam\\nmovie recommendations:<|im_end|>\\n<|im_start|>assistant\\nNice Sister-In-Law 2, Black Panther: Wakanda Forever, Terrifier 2, Awdat Al-Rouh<|im_end|>\\n', '<|im_start|>system\\nYou are are an expert in movie recommendation<|im_end|>\\n<|im_start|>user\\nSuggest movies similar to JUNG_E\\nmovie recommendations:<|im_end|>\\n<|im_start|>assistant\\nWolf Hound, Transfusion, M3GAN, Devotion<|im_end|>\\n', \"<|im_start|>system\\nYou are are an expert in movie recommendation<|im_end|>\\n<|im_start|>user\\nSuggest movies similar to Black Clover: Sword of the Wizard King\\nmovie recommendations:<|im_end|>\\n<|im_start|>assistant\\nLewis Hamilton - Le virtuose, Killers of the Flower Moon, J. Lo: Let's Get Real, Made in Italy<|im_end|>\\n\", '<|im_start|>system\\nYou are are an expert in movie recommendation<|im_end|>\\n<|im_start|>user\\nSuggest movies similar to The Trip 6\\nmovie recommendations:<|im_end|>\\n<|im_start|>assistant\\nPalm Springs, The Sound and the Fury, Tales from the Hood 2<|im_end|>\\n', '<|im_start|>system\\nYou are are an expert in movie recommendation<|im_end|>\\n<|im_start|>user\\nSuggest movies similar to Renfield\\nmovie recommendations:<|im_end|>\\n<|im_start|>assistant\\nBlow Up My Town, Victim(s), Rain in the Sunshine, Young Blood<|im_end|>\\n', '<|im_start|>system\\nYou are are an expert in movie recommendation<|im_end|>\\n<|im_start|>user\\nSuggest movies similar to We Have a Ghost\\nmovie recommendations:<|im_end|>\\n<|im_start|>assistant\\nA Man Called Otto, Black Gunn, BDE, Knock at the Cabin<|im_end|>\\n', \"<|im_start|>system\\nYou are are an expert in movie recommendation<|im_end|>\\n<|im_start|>user\\nSuggest movies similar to Roald Dahl's Matilda the Musical\\nmovie recommendations:<|im_end|>\\n<|im_start|>assistant\\n5-25-77, Glass Onion: A Knives Out Mystery, Strange World, White Noise<|im_end|>\\n\", '<|im_start|>system\\nYou are are an expert in movie recommendation<|im_end|>\\n<|im_start|>user\\nSuggest movies similar to Unicorn Wars\\nmovie recommendations:<|im_end|>\\n<|im_start|>assistant\\nAthena, Alienoid<|im_end|>\\n', \"<|im_start|>system\\nYou are are an expert in movie recommendation<|im_end|>\\n<|im_start|>user\\nSuggest movies similar to Troll\\nmovie recommendations:<|im_end|>\\n<|im_start|>assistant\\nBlack Adam, Avatar: The Way of Water, Guillermo del Toro's Pinocchio, My Name Is Vendetta<|im_end|>\\n\", '<|im_start|>system\\nYou are are an expert in movie recommendation<|im_end|>\\n<|im_start|>user\\nSuggest movies similar to Prey for the Devil\\nmovie recommendations:<|im_end|>\\n<|im_start|>assistant\\nViolent Night, The Menu, The Pale Blue Eye, Beauty Salon: Special Services 4<|im_end|>\\n', \"<|im_start|>system\\nYou are are an expert in movie recommendation<|im_end|>\\n<|im_start|>user\\nSuggest movies similar to Choose or Die\\nmovie recommendations:<|im_end|>\\n<|im_start|>assistant\\nSubmission, Pearl, #FollowFriday, There's Someone Inside Your House<|im_end|>\\n\", '<|im_start|>system\\nYou are are an expert in movie recommendation<|im_end|>\\n<|im_start|>user\\nSuggest movies similar to Blood\\nmovie recommendations:<|im_end|>\\n<|im_start|>assistant\\nA Matter Of Trust, The Phoenix, Segantini - Ritorno alla Natura, Transition and Happiness<|im_end|>\\n', \"<|im_start|>system\\nYou are are an expert in movie recommendation<|im_end|>\\n<|im_start|>user\\nSuggest movies similar to Candy Land\\nmovie recommendations:<|im_end|>\\n<|im_start|>assistant\\nThere's Something Wrong with the Children, The Offering, Wolf Hound, Transfusion<|im_end|>\\n\", '<|im_start|>system\\nYou are are an expert in movie recommendation<|im_end|>\\n<|im_start|>user\\nSuggest movies similar to The Enforcer\\nmovie recommendations:<|im_end|>\\n<|im_start|>assistant\\nWhitney Houston: I Wanna Dance with Somebody, A Man Called Otto, Empire of Light, Till<|im_end|>\\n', '<|im_start|>system\\nYou are are an expert in movie recommendation<|im_end|>\\n<|im_start|>user\\nSuggest movies similar to Avatar: Scene Deconstruction\\nmovie recommendations:<|im_end|>\\n<|im_start|>assistant\\nCountdown to Death: Pablo Escobar, Avatar: Creating the World of Pandora, Avatar Spirits, Capturing Avatar<|im_end|>\\n', '<|im_start|>system\\nYou are are an expert in movie recommendation<|im_end|>\\n<|im_start|>user\\nSuggest movies similar to Guardians of the Galaxy Vol. 2\\nmovie recommendations:<|im_end|>\\n<|im_start|>assistant\\nGuardians of the Galaxy, Spider-Man: Homecoming, Captain America: Civil War, Thor: Ragnarok<|im_end|>\\n', '<|im_start|>system\\nYou are are an expert in movie recommendation<|im_end|>\\n<|im_start|>user\\nSuggest movies similar to The Pale Blue Eye\\nmovie recommendations:<|im_end|>\\n<|im_start|>assistant\\nThe Menu, White Noise, Glass Onion: A Knives Out Mystery, Amsterdam<|im_end|>\\n', \"<|im_start|>system\\nYou are are an expert in movie recommendation<|im_end|>\\n<|im_start|>user\\nSuggest movies similar to Demon Slayer -Kimetsu no Yaiba- The Movie: Mugen Train\\nmovie recommendations:<|im_end|>\\n<|im_start|>assistant\\nDemon Slayer: Kimetsu no Yaiba the Hashira Meeting Arc, Demon Slayer: Kimetsu no Yaiba Mt. Natagumo Arc, Demon Slayer: Kimetsu no Yaiba Sibling's Bond, Demon Slayer: Kimetsu no Yaiba - Asakusa Arc<|im_end|>\\n\", '<|im_start|>system\\nYou are are an expert in movie recommendation<|im_end|>\\n<|im_start|>user\\nSuggest movies similar to Evil Eye\\nmovie recommendations:<|im_end|>\\n<|im_start|>assistant\\nSavage Salvation, The Realm, Puss in Boots: The Last Wish, The Feast<|im_end|>\\n', '<|im_start|>system\\nYou are are an expert in movie recommendation<|im_end|>\\n<|im_start|>user\\nSuggest movies similar to 65\\nmovie recommendations:<|im_end|>\\n<|im_start|>assistant\\nShazam! Fury of the Gods, The Mother, Ant-Man and the Wasp: Quantumania, The Super Mario Bros. Movie<|im_end|>\\n']\n"
     ]
    },
    {
     "data": {
      "application/vnd.jupyter.widget-view+json": {
       "model_id": "48daea9d2eab49fca6acdf0e64cbca77",
       "version_major": 2,
       "version_minor": 0
      },
      "text/plain": [
       "Converting train dataset to ChatML:   0%|          | 0/50 [00:00<?, ? examples/s]"
      ]
     },
     "metadata": {},
     "output_type": "display_data"
    },
    {
     "data": {
      "application/vnd.jupyter.widget-view+json": {
       "model_id": "e74d8cdfc59b45e9bf20be10f1940d43",
       "version_major": 2,
       "version_minor": 0
      },
      "text/plain": [
       "Applying chat template to train dataset:   0%|          | 0/50 [00:00<?, ? examples/s]"
      ]
     },
     "metadata": {},
     "output_type": "display_data"
    },
    {
     "data": {
      "application/vnd.jupyter.widget-view+json": {
       "model_id": "eb50b4da1fd947d8a07e601eaf8e72eb",
       "version_major": 2,
       "version_minor": 0
      },
      "text/plain": [
       "Tokenizing train dataset:   0%|          | 0/50 [00:00<?, ? examples/s]"
      ]
     },
     "metadata": {},
     "output_type": "display_data"
    },
    {
     "data": {
      "application/vnd.jupyter.widget-view+json": {
       "model_id": "42178de175d148ee86bcc0ac041775d0",
       "version_major": 2,
       "version_minor": 0
      },
      "text/plain": [
       "Tokenizing train dataset:   0%|          | 0/50 [00:00<?, ? examples/s]"
      ]
     },
     "metadata": {},
     "output_type": "display_data"
    },
    {
     "name": "stdout",
     "output_type": "stream",
     "text": [
      "['<|im_start|>system\\nYou are are an expert in movie recommendation<|im_end|>\\n<|im_start|>user\\nSuggest movies similar to F\\nmovie recommendations:<|im_end|>\\n<|im_start|>assistant\\nC<|im_end|>\\n', '<|im_start|>system\\nYou are are an expert in movie recommendation<|im_end|>\\n<|im_start|>user\\nSuggest movies similar to a\\nmovie recommendations:<|im_end|>\\n<|im_start|>assistant\\ni<|im_end|>\\n', '<|im_start|>system\\nYou are are an expert in movie recommendation<|im_end|>\\n<|im_start|>user\\nSuggest movies similar to s\\nmovie recommendations:<|im_end|>\\n<|im_start|>assistant\\na<|im_end|>\\n', '<|im_start|>system\\nYou are are an expert in movie recommendation<|im_end|>\\n<|im_start|>user\\nSuggest movies similar to t\\nmovie recommendations:<|im_end|>\\n<|im_start|>assistant\\no<|im_end|>\\n', '<|im_start|>system\\nYou are are an expert in movie recommendation<|im_end|>\\n<|im_start|>user\\nSuggest movies similar to  \\nmovie recommendations:<|im_end|>\\n<|im_start|>assistant\\n,<|im_end|>\\n', '<|im_start|>system\\nYou are are an expert in movie recommendation<|im_end|>\\n<|im_start|>user\\nSuggest movies similar to X\\nmovie recommendations:<|im_end|>\\n<|im_start|>assistant\\n <|im_end|>\\n']\n"
     ]
    },
    {
     "name": "stderr",
     "output_type": "stream",
     "text": [
      "No label_names provided for model class `PeftModelForCausalLM`. Since `PeftModel` hides base models input arguments, if label_names is not given, label_names can't be set automatically within `Trainer`. Note that empty label_names list will be used instead.\n"
     ]
    }
   ],
   "source": [
    "OUTPUT_DIR = checkpoint.split(\"/\")[-1] + \"-movie-reco\"\n",
    "\n",
    "# setup the trainer\n",
    "trainer = SFTTrainer(\n",
    "        model=model,\n",
    "        train_dataset=train_dataset,\n",
    "        eval_dataset=test_dataset,\n",
    "        args=SFTConfig(\n",
    "                per_device_train_batch_size=2,\n",
    "                gradient_accumulation_steps=4,\n",
    "                warmup_steps=10,\n",
    "                num_train_epochs=3,\n",
    "                max_steps=1000,\n",
    "                learning_rate=0.0002,\n",
    "                lr_scheduler_type=\"cosine\",\n",
    "                eval_strategy=\"steps\",\n",
    "                eval_steps=150,\n",
    "                weight_decay=0.01,\n",
    "                bf16=True,\n",
    "                logging_strategy=\"steps\",\n",
    "                logging_steps=10,\n",
    "                output_dir=\"./\" + OUTPUT_DIR,\n",
    "                optim=\"paged_adamw_8bit\",\n",
    "                seed=42,\n",
    "                run_name=f\"train-{OUTPUT_DIR}\",\n",
    "                report_to=\"wandb\",\n",
    "                save_steps=31,\n",
    "                push_to_hub=True,\n",
    "                hub_model_id=hub_model_id,\n",
    "                save_total_limit=4,\n",
    "                ),\n",
    "        peft_config=lora_config,\n",
    "        formatting_func=formatting_prompts_func,\n",
    "        data_collator=collator,\n",
    "        )"
   ]
  },
  {
   "cell_type": "code",
   "execution_count": 58,
   "id": "d97b2cd2954f98af",
   "metadata": {
    "execution": {
     "iopub.execute_input": "2025-02-11T11:16:01.674707Z",
     "iopub.status.busy": "2025-02-11T11:16:01.674390Z",
     "iopub.status.idle": "2025-02-11T11:24:42.714302Z",
     "shell.execute_reply": "2025-02-11T11:24:42.713086Z",
     "shell.execute_reply.started": "2025-02-11T11:16:01.674683Z"
    },
    "trusted": true
   },
   "outputs": [
    {
     "data": {
      "text/html": [
       "\n",
       "    <div>\n",
       "      \n",
       "      <progress value='1000' max='1000' style='width:300px; height:20px; vertical-align: middle;'></progress>\n",
       "      [1000/1000 11:43, Epoch 142/167]\n",
       "    </div>\n",
       "    <table border=\"1\" class=\"dataframe\">\n",
       "  <thead>\n",
       " <tr style=\"text-align: left;\">\n",
       "      <th>Step</th>\n",
       "      <th>Training Loss</th>\n",
       "      <th>Validation Loss</th>\n",
       "    </tr>\n",
       "  </thead>\n",
       "  <tbody>\n",
       "    <tr>\n",
       "      <td>150</td>\n",
       "      <td>0.298800</td>\n",
       "      <td>0.203932</td>\n",
       "    </tr>\n",
       "    <tr>\n",
       "      <td>300</td>\n",
       "      <td>0.007500</td>\n",
       "      <td>0.005232</td>\n",
       "    </tr>\n",
       "    <tr>\n",
       "      <td>450</td>\n",
       "      <td>0.002100</td>\n",
       "      <td>0.001892</td>\n",
       "    </tr>\n",
       "    <tr>\n",
       "      <td>600</td>\n",
       "      <td>0.001500</td>\n",
       "      <td>0.001331</td>\n",
       "    </tr>\n",
       "    <tr>\n",
       "      <td>750</td>\n",
       "      <td>0.001300</td>\n",
       "      <td>0.001148</td>\n",
       "    </tr>\n",
       "    <tr>\n",
       "      <td>900</td>\n",
       "      <td>0.001300</td>\n",
       "      <td>0.001090</td>\n",
       "    </tr>\n",
       "  </tbody>\n",
       "</table><p>"
      ],
      "text/plain": [
       "<IPython.core.display.HTML object>"
      ]
     },
     "metadata": {},
     "output_type": "display_data"
    }
   ],
   "source": [
    "import os\n",
    "from transformers import is_torch_xpu_available, is_torch_npu_available\n",
    "import torch\n",
    "\n",
    "# Lancement du processus d'entraînement du modèle.\n",
    "# Ici, 'trainer.train()' déclenche la phase de fine-tuning,\n",
    "# dans laquelle les paramètres du modèle sont ajustés sur une tâche spécifique\n",
    "# en utilisant des données d'entraînement pertinentes.\n",
    "trainer.train()\n",
    "\n",
    "# Une fois l'entraînement terminé, on sauvegarde l'adaptateur LoRA (fine-tuning léger).\n",
    "# LoRA (Low-Rank Adaptation) est une technique destinée à fine-tuner les grands\n",
    "# modèles en modifiant uniquement un sous-ensemble restreint de paramètres.\n",
    "final_checkpoint_dir = os.path.join(OUTPUT_DIR, \"final_checkpoint\")\n",
    "trainer.save_model(final_checkpoint_dir)"
   ]
  },
  {
   "cell_type": "markdown",
   "id": "8b55994b337262e",
   "metadata": {},
   "source": [
    "Push du model dans le hub"
   ]
  },
  {
   "cell_type": "code",
   "execution_count": 59,
   "id": "81a6126b436ca9f",
   "metadata": {},
   "outputs": [
    {
     "data": {
      "text/plain": [
       "CommitInfo(commit_url='https://huggingface.co/RealDragonMA/Pelliculum-Chatbot/commit/28f514640dee8e9b19f51c7fa6719363c1afe6a4', commit_message='End of training', commit_description='', oid='28f514640dee8e9b19f51c7fa6719363c1afe6a4', pr_url=None, repo_url=RepoUrl('https://huggingface.co/RealDragonMA/Pelliculum-Chatbot', endpoint='https://huggingface.co', repo_type='model', repo_id='RealDragonMA/Pelliculum-Chatbot'), pr_revision=None, pr_num=None)"
      ]
     },
     "execution_count": 59,
     "metadata": {},
     "output_type": "execute_result"
    }
   ],
   "source": [
    "trainer.push_to_hub(dataset_name=dataset_name)"
   ]
  },
  {
   "cell_type": "code",
   "execution_count": 60,
   "id": "6b0a262fbaf39d2c",
   "metadata": {},
   "outputs": [],
   "source": [
    "# Nettoyage des ressources mémoire pour libérer l'espace GPU ou autres accélérateurs,\n",
    "# ce qui est utile avant de fusionner l'adaptateur LoRA avec le modèle de base.\n",
    "del model  # Suppression explicite du modèle de la mémoire.\n",
    "\n",
    "# Vider les caches des accélérateurs (XPU, NPU ou GPU en fonction de la disponibilité).\n",
    "# Cela optimise l'utilisation future des ressources.\n",
    "if is_torch_xpu_available():\n",
    "    torch.xpu.empty_cache()  # Vide les caches spécifiques pour XPU.\n",
    "elif is_torch_npu_available():\n",
    "    torch.npu.empty_cache()  # Vide les caches spécifiques pour NPU.\n",
    "else:\n",
    "    torch.cuda.empty_cache()  # Vide les caches GPU standard.\n",
    "\n",
    "# Chargement du modèle adapté (en incluant l'adaptateur LoRA) pour effectuer une fusion\n",
    "# avec le modèle de base. Cela permet de sauvegarder un modèle autonome optimisé.\n",
    "from peft import AutoPeftModelForCausalLM\n",
    "\n",
    "# Chargement du modèle préalablement sauvegardé depuis le répertoire OUTPUT_DIR.\n",
    "# Les paramètres 'device_map' et 'torch_dtype' permettent d'optimiser le chargement :\n",
    "# - 'device_map=\"auto\"' ajuste automatiquement le placement sur le GPU, CPU ou autre.\n",
    "# - 'torch_dtype=torch.bfloat16' utilise un format numérique bfloat16, qui réduit\n",
    "#    la mémoire nécessaire tout en maintenant des performances stables.\n",
    "model = AutoPeftModelForCausalLM.from_pretrained(\n",
    "        OUTPUT_DIR,\n",
    "        device_map=\"auto\",\n",
    "        torch_dtype=torch.bfloat16\n",
    "        )\n",
    "\n",
    "# Fusion de l'adaptateur LoRA directement dans le modèle de base,\n",
    "# afin de produire un modèle final unique tout en réduisant ses redondances.\n",
    "model = model.merge_and_unload()\n",
    "\n",
    "# Sauvegarde du modèle fusionné dans un répertoire spécifique.\n",
    "# 'safe_serialization=True' garantit que le modèle est stocké au format sûr,\n",
    "# pour une compatibilité future et une intégrité des données.\n",
    "output_merged_dir = os.path.join(OUTPUT_DIR, \"final_merged_checkpoint\")\n",
    "model.save_pretrained(output_merged_dir, safe_serialization=True)"
   ]
  },
  {
   "cell_type": "markdown",
   "id": "ddc4fdd5b9e5ddab",
   "metadata": {},
   "source": [
    "push du model dans le hub mais avec l'adaptateur lora merge directement"
   ]
  },
  {
   "cell_type": "code",
   "execution_count": 61,
   "id": "b8027367c5a738c",
   "metadata": {},
   "outputs": [
    {
     "data": {
      "application/vnd.jupyter.widget-view+json": {
       "model_id": "c79b79f7cf994ef59a9e17c9d3a080e9",
       "version_major": 2,
       "version_minor": 0
      },
      "text/plain": [
       "README.md:   0%|          | 0.00/1.84k [00:00<?, ?B/s]"
      ]
     },
     "metadata": {},
     "output_type": "display_data"
    },
    {
     "data": {
      "application/vnd.jupyter.widget-view+json": {
       "model_id": "8d5b97e8c138455abc4f446011861fd0",
       "version_major": 2,
       "version_minor": 0
      },
      "text/plain": [
       "model.safetensors:   0%|          | 0.00/269M [00:00<?, ?B/s]"
      ]
     },
     "metadata": {},
     "output_type": "display_data"
    },
    {
     "data": {
      "text/plain": [
       "CommitInfo(commit_url='https://huggingface.co/RealDragonMA/Pelliculum-Chatbot/commit/f14f6fba9a6a2117171ed8153d16b80a78f122e2', commit_message='Upload LlamaForCausalLM', commit_description='', oid='f14f6fba9a6a2117171ed8153d16b80a78f122e2', pr_url=None, repo_url=RepoUrl('https://huggingface.co/RealDragonMA/Pelliculum-Chatbot', endpoint='https://huggingface.co', repo_type='model', repo_id='RealDragonMA/Pelliculum-Chatbot'), pr_revision=None, pr_num=None)"
      ]
     },
     "execution_count": 61,
     "metadata": {},
     "output_type": "execute_result"
    }
   ],
   "source": [
    "model.push_to_hub(hub_model_id)"
   ]
  },
  {
   "cell_type": "markdown",
   "id": "22753b825ec99281",
   "metadata": {},
   "source": [
    "# inference"
   ]
  },
  {
   "cell_type": "code",
   "execution_count": 62,
   "id": "3be83d7a3fbeed60",
   "metadata": {},
   "outputs": [],
   "source": [
    "from transformers import AutoModelForCausalLM, AutoTokenizer\n",
    "\n",
    "device = \"cuda\"  # for GPU usage or \"cpu\" for CPU usage\n",
    "tokenizer = AutoTokenizer.from_pretrained(OUTPUT_DIR)\n",
    "# for multiple GPUs install accelerate and do `model = AutoModelForCausalLM.from_pretrained(checkpoint, device_map=\"auto\")`\n",
    "model = AutoModelForCausalLM.from_pretrained(OUTPUT_DIR).to(device)"
   ]
  },
  {
   "cell_type": "code",
   "execution_count": 63,
   "id": "6ceb3b24-23a2-4d5d-b426-a309044f4c71",
   "metadata": {
    "execution": {
     "iopub.execute_input": "2025-02-11T11:25:42.227252Z",
     "iopub.status.busy": "2025-02-11T11:25:42.226963Z",
     "iopub.status.idle": "2025-02-11T11:25:42.238173Z",
     "shell.execute_reply": "2025-02-11T11:25:42.237140Z",
     "shell.execute_reply.started": "2025-02-11T11:25:42.227232Z"
    },
    "trusted": true
   },
   "outputs": [],
   "source": [
    "model = model.eval()"
   ]
  },
  {
   "cell_type": "code",
   "execution_count": 64,
   "id": "ebdddc84e21bdfdf",
   "metadata": {
    "execution": {
     "iopub.execute_input": "2025-02-11T11:35:05.632268Z",
     "iopub.status.busy": "2025-02-11T11:35:05.631980Z",
     "iopub.status.idle": "2025-02-11T11:35:07.821950Z",
     "shell.execute_reply": "2025-02-11T11:35:07.821006Z",
     "shell.execute_reply.started": "2025-02-11T11:35:05.632249Z"
    },
    "trusted": true
   },
   "outputs": [
    {
     "name": "stdout",
     "output_type": "stream",
     "text": [
      "The Pope's Exorcist --> Evil Dead Rise, The Devil Conspiracy, The Super Mario Bros. Movie, Suzume\n",
      "----------------- Generated text -----------------\n",
      "<|im_start|>system\n",
      "You are are an expert in movie recommendation<|im_end|>\n",
      "<|im_start|>user\n",
      "Suggest movies similar to The Pope's Exorcist\n",
      "movie recommendations:<|im_end|>\n",
      "<|im_start|>assistant\n",
      "Evil Dead Rise, The Devil Conspiracy, The Super Mario Bros. Movie, Suzume, 3-3, The Devotion, The Super Mario Bros. Movie, The Super Marioatu, The Devil\n"
     ]
    }
   ],
   "source": [
    "idx = 1\n",
    "messages = [\n",
    "          {\n",
    "                \"role\":    \"system\",\n",
    "                \"content\": \"You are are an expert in movie recommendation\"\n",
    "                },\n",
    "    {\n",
    "        \"role\":    \"user\",\n",
    "        \"content\": PROMPT_TEMPLATE.format(title=train_dataset[idx][\"title\"])\n",
    "        },\n",
    "    ]\n",
    "print(train_dataset[idx][\"title\"], \"-->\",train_dataset[idx][\"recommendations\"])\n",
    "device = \"cuda\"\n",
    "input_text = tokenizer.apply_chat_template(messages, tokenize=False)\n",
    "print(\"----------------- Generated text -----------------\")\n",
    "inputs = tokenizer.encode(input_text, return_tensors=\"pt\").to(device)\n",
    "outputs = model.generate(inputs,\n",
    "                         max_new_tokens=50,\n",
    "                         temperature=0.2,\n",
    "                         top_p=0.45,\n",
    "                         eos_token_id=tokenizer.eos_token_id,   # <-- crucial\n",
    "                         pad_token_id=tokenizer.eos_token_id,    # often set pad = eos\n",
    "                         do_sample=True)\n",
    "print(tokenizer.decode(outputs[0]))"
   ]
  }
 ],
 "metadata": {
  "kaggle": {
   "accelerator": "gpu",
   "dataSources": [],
   "dockerImageVersionId": 30887,
   "isGpuEnabled": true,
   "isInternetEnabled": true,
   "language": "python",
   "sourceType": "notebook"
  },
  "kernelspec": {
   "display_name": ".venv",
   "language": "python",
   "name": "python3"
  },
  "language_info": {
   "codemirror_mode": {
    "name": "ipython",
    "version": 3
   },
   "file_extension": ".py",
   "mimetype": "text/x-python",
   "name": "python",
   "nbconvert_exporter": "python",
   "pygments_lexer": "ipython3",
   "version": "3.12.8"
  }
 },
 "nbformat": 4,
 "nbformat_minor": 5
}
